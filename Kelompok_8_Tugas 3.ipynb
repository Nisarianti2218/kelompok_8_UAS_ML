{
 "cells": [
  {
   "cell_type": "markdown",
   "id": "830e5ee2",
   "metadata": {},
   "source": [
    "# 🧠 Proyek Klasifikasi Gambar: Animal Image Classification Dataset\n",
    "### 👥Anggota Kelompok\n",
    "- **Nama:** Nisa Rianti(2208107010018)\n",
    "- **Nama:** Akhsania Maisa Rahmah(2208107010017)\n",
    "- **Nama:** Indriani Miza Alfiyanti (2208107010026)\n",
    "- **Nama:** Zuwi Pertiwi (2208107010061)"
   ]
  },
  {
   "cell_type": "markdown",
   "id": "d54616f4",
   "metadata": {},
   "source": [
    "## 📦1. Import Semua Packages/Library yang Digunakan\n",
    "Langkah awal adalah mengimpor berbagai pustaka penting yang dibutuhkan untuk memproses citra, membuat model deep learning, dan mengevaluasi performa model."
   ]
  },
  {
   "cell_type": "code",
   "execution_count": 8,
   "id": "3d3bb4a9",
   "metadata": {},
   "outputs": [],
   "source": [
    "import os\n",
    "import numpy as np\n",
    "import pandas as pd\n",
    "import shutil\n",
    "import random\n",
    "import matplotlib.pyplot as plt\n",
    "import seaborn as sns\n",
    "from sklearn.metrics import classification_report, confusion_matrix\n",
    "from tensorflow.keras.preprocessing.image import ImageDataGenerator\n",
    "from tensorflow.keras.models import Sequential\n",
    "from tensorflow.keras.layers import Conv2D, MaxPooling2D, Flatten, Dense, Dropout\n",
    "from tensorflow.keras.callbacks import EarlyStopping, ModelCheckpoint\n",
    "from tensorflow.keras.optimizers import Adam"
   ]
  },
  {
   "cell_type": "markdown",
   "id": "3da35425",
   "metadata": {},
   "source": [
    "## 📂2. Load Data\n",
    "Menentukan lokasi folder dataset citra hewan yang akan digunakan."
   ]
  },
  {
   "cell_type": "code",
   "execution_count": 2,
   "id": "ad19c516",
   "metadata": {},
   "outputs": [
    {
     "name": "stderr",
     "output_type": "stream",
     "text": [
      "<>:1: SyntaxWarning: invalid escape sequence '\\T'\n",
      "<>:1: SyntaxWarning: invalid escape sequence '\\T'\n",
      "C:\\Users\\ASUS\\AppData\\Local\\Temp\\ipykernel_22616\\4120793412.py:1: SyntaxWarning: invalid escape sequence '\\T'\n",
      "  dataset_dir = 'D:\\TUGAS ICA\\SEMESTER 6\\PEMELAJARAN MESIN\\Kelompok_8_Tugas 3\\Animal Image Dataset'  # sesuaikan path dengan lokasi dataset kamu\n"
     ]
    }
   ],
   "source": [
    "dataset_dir = 'D:\\TUGAS ICA\\SEMESTER 6\\PEMELAJARAN MESIN\\Kelompok_8_Tugas 3\\Animal Image Dataset'  # sesuaikan path dengan lokasi dataset kamu\n",
    "base_dir = 'data/'"
   ]
  },
  {
   "cell_type": "markdown",
   "id": "18c6a8d0",
   "metadata": {},
   "source": [
    "## 🔀 3. Split Data\n",
    "Membagi dataset menjadi tiga bagian: data latih (70%), validasi (15%), dan uji (15%)."
   ]
  },
  {
   "cell_type": "code",
   "execution_count": 3,
   "id": "cf211c1d",
   "metadata": {},
   "outputs": [],
   "source": [
    "def split_data(source_dir, train_dir, val_dir, test_dir, split_ratio=(0.7, 0.15, 0.15)):\n",
    "    if not os.path.exists(train_dir):\n",
    "        os.makedirs(train_dir)\n",
    "        os.makedirs(val_dir)\n",
    "        os.makedirs(test_dir)\n",
    "        selected_classes = [folder for folder in os.listdir(source_dir) if os.path.isdir(os.path.join(source_dir, folder))]\n",
    "\n",
    "        for label in selected_classes:\n",
    "            img_list = os.listdir(os.path.join(source_dir, label))\n",
    "            random.shuffle(img_list)\n",
    "            total = len(img_list)\n",
    "            train_cutoff = int(split_ratio[0] * total)\n",
    "            val_cutoff = int((split_ratio[0] + split_ratio[1]) * total)\n",
    "\n",
    "            os.makedirs(os.path.join(train_dir, label))\n",
    "            os.makedirs(os.path.join(val_dir, label))\n",
    "            os.makedirs(os.path.join(test_dir, label))\n",
    "\n",
    "            for i, img in enumerate(img_list):\n",
    "                src_path = os.path.join(source_dir, label, img)\n",
    "                if i < train_cutoff:\n",
    "                    dst_path = os.path.join(train_dir, label, img)\n",
    "                elif i < val_cutoff:\n",
    "                    dst_path = os.path.join(val_dir, label, img)\n",
    "                else:\n",
    "                    dst_path = os.path.join(test_dir, label, img)\n",
    "                shutil.copy2(src_path, dst_path)\n",
    "\n",
    "split_data(dataset_dir, base_dir + 'train', base_dir + 'val', base_dir + 'test')"
   ]
  },
  {
   "cell_type": "markdown",
   "id": "143a0c7a",
   "metadata": {},
   "source": [
    "## ⚙️ 4. Preprocessing dengan ImageDataGenerator\n",
    "Digunakan untuk augmentasi dan normalisasi citra."
   ]
  },
  {
   "cell_type": "markdown",
   "id": "0fc33a0f",
   "metadata": {},
   "source": [
    "Pada bagian ini, dataset citra diproses agar siap digunakan dalam pelatihan model. Gambar dinormalisasi dengan membagi nilai piksel dengan 255, dan untuk data latih ditambahkan augmentasi seperti rotasi, translasi, zoom, hingga flipping guna memperkaya variasi data. Dataset kemudian dimuat dari folder train, val, dan test, masing-masing dengan jumlah data yang terdeteksi sebagai berikut:"
   ]
  },
  {
   "cell_type": "code",
   "execution_count": 4,
   "id": "876b56ee",
   "metadata": {},
   "outputs": [
    {
     "name": "stdout",
     "output_type": "stream",
     "text": [
      "Found 2875 images belonging to 3 classes.\n",
      "Found 616 images belonging to 3 classes.\n",
      "Found 618 images belonging to 3 classes.\n"
     ]
    }
   ],
   "source": [
    "IMG_SIZE = (150, 150)\n",
    "BATCH_SIZE = 32\n",
    "\n",
    "# Data augmentation untuk meningkatkan jumlah variasi data\n",
    "train_datagen = ImageDataGenerator(rescale=1./255, rotation_range=40, width_shift_range=0.3,\n",
    "                                   height_shift_range=0.3, shear_range=0.3, zoom_range=0.3,\n",
    "                                   horizontal_flip=True, fill_mode='nearest')\n",
    "\n",
    "val_datagen = ImageDataGenerator(rescale=1./255)\n",
    "test_datagen = ImageDataGenerator(rescale=1./255)\n",
    "\n",
    "train_generator = train_datagen.flow_from_directory(base_dir + 'train', target_size=IMG_SIZE,\n",
    "                                                    batch_size=BATCH_SIZE, class_mode='categorical')\n",
    "val_generator = val_datagen.flow_from_directory(base_dir + 'val', target_size=IMG_SIZE,\n",
    "                                                batch_size=BATCH_SIZE, class_mode='categorical')\n",
    "test_generator = test_datagen.flow_from_directory(base_dir + 'test', target_size=IMG_SIZE,\n",
    "                                                  batch_size=1, class_mode='categorical', shuffle=False)"
   ]
  },
  {
   "cell_type": "markdown",
   "id": "204c0707",
   "metadata": {},
   "source": [
    "## 🧠5. Membangun Model CNN (Beberapa Konfigurasi)\n",
    "Membangun model klasifikasi citra menggunakan Convolutional Neural Network."
   ]
  },
  {
   "cell_type": "code",
   "execution_count": 5,
   "id": "654d425d",
   "metadata": {},
   "outputs": [],
   "source": [
    "# Model CNN dengan lebih banyak layer dan dropout untuk regularisasi\n",
    "def build_model(filters=32, dropout_rate=0.3):\n",
    "    model = Sequential()\n",
    "    model.add(Conv2D(filters, (3, 3), activation='relu', input_shape=(150, 150, 3)))\n",
    "    model.add(MaxPooling2D(2, 2))\n",
    "    model.add(Conv2D(filters*2, (3, 3), activation='relu'))\n",
    "    model.add(MaxPooling2D(2, 2))\n",
    "    model.add(Conv2D(filters*4, (3, 3), activation='relu'))\n",
    "    model.add(MaxPooling2D(2, 2))\n",
    "    model.add(Dropout(dropout_rate))\n",
    "    model.add(Flatten())\n",
    "    model.add(Dense(512, activation='relu'))\n",
    "    model.add(Dropout(dropout_rate))\n",
    "    model.add(Dense(3, activation='softmax'))\n",
    "    model.compile(optimizer=Adam(), loss='categorical_crossentropy', metrics=['accuracy'])\n",
    "    return model\n",
    "\n",
    "configs = [\n",
    "    {'filters': 32, 'dropout': 0.3, 'name': 'model_1'},\n",
    "    {'filters': 64, 'dropout': 0.4, 'name': 'model_2'},\n",
    "    {'filters': 128, 'dropout': 0.5, 'name': 'model_3'},\n",
    "]"
   ]
  },
  {
   "cell_type": "markdown",
   "id": "2eba51d5",
   "metadata": {},
   "source": [
    "Model CNN dibangun dengan tiga lapis konvolusi bertingkat dan max pooling, disertai dropout untuk mencegah overfitting dan dense layer sebagai klasifikasi akhir. Fungsi build_model fleksibel dengan parameter filters dan dropout_rate sehingga dapat dikonfigurasi dengan mudah. Setiap konfigurasi mencoba kombinasi jumlah filter dan tingkat dropout yang berbeda untuk menemukan model terbaik berdasarkan akurasi klasifikasi citra."
   ]
  },
  {
   "cell_type": "markdown",
   "id": "5b9ecc24",
   "metadata": {},
   "source": [
    "## 🧪 6. Evaluasi Model (Akurasi, Precision, Recall, F1-Score)"
   ]
  },
  {
   "cell_type": "code",
   "execution_count": 6,
   "id": "116c269d",
   "metadata": {},
   "outputs": [
    {
     "name": "stdout",
     "output_type": "stream",
     "text": [
      "\n",
      "Melatih model_1\n"
     ]
    },
    {
     "name": "stderr",
     "output_type": "stream",
     "text": [
      "c:\\Python312\\Lib\\site-packages\\keras\\src\\layers\\convolutional\\base_conv.py:107: UserWarning: Do not pass an `input_shape`/`input_dim` argument to a layer. When using Sequential models, prefer using an `Input(shape)` object as the first layer in the model instead.\n",
      "  super().__init__(activity_regularizer=activity_regularizer, **kwargs)\n",
      "c:\\Python312\\Lib\\site-packages\\keras\\src\\trainers\\data_adapters\\py_dataset_adapter.py:121: UserWarning: Your `PyDataset` class should call `super().__init__(**kwargs)` in its constructor. `**kwargs` can include `workers`, `use_multiprocessing`, `max_queue_size`. Do not pass these arguments to `fit()`, as they will be ignored.\n",
      "  self._warn_if_super_not_called()\n"
     ]
    },
    {
     "name": "stdout",
     "output_type": "stream",
     "text": [
      "Epoch 1/20\n",
      "\u001b[1m90/90\u001b[0m \u001b[32m━━━━━━━━━━━━━━━━━━━━\u001b[0m\u001b[37m\u001b[0m \u001b[1m72s\u001b[0m 786ms/step - accuracy: 0.5725 - loss: 0.9124 - val_accuracy: 0.7792 - val_loss: 0.6057\n",
      "Epoch 2/20\n",
      "\u001b[1m90/90\u001b[0m \u001b[32m━━━━━━━━━━━━━━━━━━━━\u001b[0m\u001b[37m\u001b[0m \u001b[1m47s\u001b[0m 525ms/step - accuracy: 0.7976 - loss: 0.5468 - val_accuracy: 0.7922 - val_loss: 0.5334\n",
      "Epoch 3/20\n",
      "\u001b[1m90/90\u001b[0m \u001b[32m━━━━━━━━━━━━━━━━━━━━\u001b[0m\u001b[37m\u001b[0m \u001b[1m50s\u001b[0m 553ms/step - accuracy: 0.8124 - loss: 0.4686 - val_accuracy: 0.7646 - val_loss: 0.5543\n",
      "Epoch 4/20\n",
      "\u001b[1m90/90\u001b[0m \u001b[32m━━━━━━━━━━━━━━━━━━━━\u001b[0m\u001b[37m\u001b[0m \u001b[1m48s\u001b[0m 529ms/step - accuracy: 0.8472 - loss: 0.4235 - val_accuracy: 0.7744 - val_loss: 0.6098\n",
      "Epoch 5/20\n",
      "\u001b[1m90/90\u001b[0m \u001b[32m━━━━━━━━━━━━━━━━━━━━\u001b[0m\u001b[37m\u001b[0m \u001b[1m49s\u001b[0m 543ms/step - accuracy: 0.8474 - loss: 0.4161 - val_accuracy: 0.7971 - val_loss: 0.5309\n",
      "Epoch 6/20\n",
      "\u001b[1m90/90\u001b[0m \u001b[32m━━━━━━━━━━━━━━━━━━━━\u001b[0m\u001b[37m\u001b[0m \u001b[1m53s\u001b[0m 592ms/step - accuracy: 0.8397 - loss: 0.4314 - val_accuracy: 0.8133 - val_loss: 0.4870\n",
      "Epoch 7/20\n",
      "\u001b[1m90/90\u001b[0m \u001b[32m━━━━━━━━━━━━━━━━━━━━\u001b[0m\u001b[37m\u001b[0m \u001b[1m50s\u001b[0m 556ms/step - accuracy: 0.8495 - loss: 0.3963 - val_accuracy: 0.8182 - val_loss: 0.5044\n",
      "Epoch 8/20\n",
      "\u001b[1m90/90\u001b[0m \u001b[32m━━━━━━━━━━━━━━━━━━━━\u001b[0m\u001b[37m\u001b[0m \u001b[1m48s\u001b[0m 534ms/step - accuracy: 0.8639 - loss: 0.3597 - val_accuracy: 0.8458 - val_loss: 0.4091\n",
      "Epoch 9/20\n",
      "\u001b[1m90/90\u001b[0m \u001b[32m━━━━━━━━━━━━━━━━━━━━\u001b[0m\u001b[37m\u001b[0m \u001b[1m49s\u001b[0m 540ms/step - accuracy: 0.8641 - loss: 0.3410 - val_accuracy: 0.8555 - val_loss: 0.3529\n",
      "Epoch 10/20\n",
      "\u001b[1m90/90\u001b[0m \u001b[32m━━━━━━━━━━━━━━━━━━━━\u001b[0m\u001b[37m\u001b[0m \u001b[1m47s\u001b[0m 525ms/step - accuracy: 0.8805 - loss: 0.3267 - val_accuracy: 0.7776 - val_loss: 0.6126\n",
      "Epoch 11/20\n",
      "\u001b[1m90/90\u001b[0m \u001b[32m━━━━━━━━━━━━━━━━━━━━\u001b[0m\u001b[37m\u001b[0m \u001b[1m49s\u001b[0m 535ms/step - accuracy: 0.8635 - loss: 0.3483 - val_accuracy: 0.8653 - val_loss: 0.3518\n",
      "Epoch 12/20\n",
      "\u001b[1m90/90\u001b[0m \u001b[32m━━━━━━━━━━━━━━━━━━━━\u001b[0m\u001b[37m\u001b[0m \u001b[1m48s\u001b[0m 525ms/step - accuracy: 0.8717 - loss: 0.3551 - val_accuracy: 0.8052 - val_loss: 0.5059\n",
      "Epoch 13/20\n",
      "\u001b[1m90/90\u001b[0m \u001b[32m━━━━━━━━━━━━━━━━━━━━\u001b[0m\u001b[37m\u001b[0m \u001b[1m48s\u001b[0m 533ms/step - accuracy: 0.8745 - loss: 0.3180 - val_accuracy: 0.8555 - val_loss: 0.3533\n",
      "Epoch 14/20\n",
      "\u001b[1m90/90\u001b[0m \u001b[32m━━━━━━━━━━━━━━━━━━━━\u001b[0m\u001b[37m\u001b[0m \u001b[1m48s\u001b[0m 533ms/step - accuracy: 0.8904 - loss: 0.2977 - val_accuracy: 0.8604 - val_loss: 0.3780\n",
      "Epoch 15/20\n",
      "\u001b[1m90/90\u001b[0m \u001b[32m━━━━━━━━━━━━━━━━━━━━\u001b[0m\u001b[37m\u001b[0m \u001b[1m48s\u001b[0m 538ms/step - accuracy: 0.8953 - loss: 0.2882 - val_accuracy: 0.8896 - val_loss: 0.2806\n",
      "Epoch 16/20\n",
      "\u001b[1m90/90\u001b[0m \u001b[32m━━━━━━━━━━━━━━━━━━━━\u001b[0m\u001b[37m\u001b[0m \u001b[1m48s\u001b[0m 527ms/step - accuracy: 0.8869 - loss: 0.3064 - val_accuracy: 0.8555 - val_loss: 0.3557\n",
      "Epoch 17/20\n",
      "\u001b[1m90/90\u001b[0m \u001b[32m━━━━━━━━━━━━━━━━━━━━\u001b[0m\u001b[37m\u001b[0m \u001b[1m49s\u001b[0m 537ms/step - accuracy: 0.8756 - loss: 0.3309 - val_accuracy: 0.9091 - val_loss: 0.2396\n",
      "Epoch 18/20\n",
      "\u001b[1m90/90\u001b[0m \u001b[32m━━━━━━━━━━━━━━━━━━━━\u001b[0m\u001b[37m\u001b[0m \u001b[1m48s\u001b[0m 528ms/step - accuracy: 0.8956 - loss: 0.2870 - val_accuracy: 0.8620 - val_loss: 0.3401\n",
      "Epoch 19/20\n",
      "\u001b[1m90/90\u001b[0m \u001b[32m━━━━━━━━━━━━━━━━━━━━\u001b[0m\u001b[37m\u001b[0m \u001b[1m48s\u001b[0m 534ms/step - accuracy: 0.8955 - loss: 0.2648 - val_accuracy: 0.8929 - val_loss: 0.2643\n",
      "Epoch 20/20\n",
      "\u001b[1m90/90\u001b[0m \u001b[32m━━━━━━━━━━━━━━━━━━━━\u001b[0m\u001b[37m\u001b[0m \u001b[1m48s\u001b[0m 534ms/step - accuracy: 0.8921 - loss: 0.2955 - val_accuracy: 0.8377 - val_loss: 0.4018\n"
     ]
    },
    {
     "name": "stderr",
     "output_type": "stream",
     "text": [
      "WARNING:absl:You are saving your model as an HDF5 file via `model.save()` or `keras.saving.save_model(model)`. This file format is considered legacy. We recommend using instead the native Keras format, e.g. `model.save('my_model.keras')` or `keras.saving.save_model(model, 'my_model.keras')`. \n"
     ]
    },
    {
     "name": "stdout",
     "output_type": "stream",
     "text": [
      "\u001b[1m618/618\u001b[0m \u001b[32m━━━━━━━━━━━━━━━━━━━━\u001b[0m\u001b[37m\u001b[0m \u001b[1m6s\u001b[0m 10ms/step\n",
      "\n",
      "Melatih model_2\n"
     ]
    },
    {
     "name": "stderr",
     "output_type": "stream",
     "text": [
      "c:\\Python312\\Lib\\site-packages\\keras\\src\\layers\\convolutional\\base_conv.py:107: UserWarning: Do not pass an `input_shape`/`input_dim` argument to a layer. When using Sequential models, prefer using an `Input(shape)` object as the first layer in the model instead.\n",
      "  super().__init__(activity_regularizer=activity_regularizer, **kwargs)\n"
     ]
    },
    {
     "name": "stdout",
     "output_type": "stream",
     "text": [
      "Epoch 1/20\n",
      "\u001b[1m90/90\u001b[0m \u001b[32m━━━━━━━━━━━━━━━━━━━━\u001b[0m\u001b[37m\u001b[0m \u001b[1m100s\u001b[0m 1s/step - accuracy: 0.5281 - loss: 1.3083 - val_accuracy: 0.7922 - val_loss: 0.5379\n",
      "Epoch 2/20\n",
      "\u001b[1m90/90\u001b[0m \u001b[32m━━━━━━━━━━━━━━━━━━━━\u001b[0m\u001b[37m\u001b[0m \u001b[1m93s\u001b[0m 1s/step - accuracy: 0.7546 - loss: 0.6491 - val_accuracy: 0.7549 - val_loss: 0.6109\n",
      "Epoch 3/20\n",
      "\u001b[1m90/90\u001b[0m \u001b[32m━━━━━━━━━━━━━━━━━━━━\u001b[0m\u001b[37m\u001b[0m \u001b[1m96s\u001b[0m 1s/step - accuracy: 0.8044 - loss: 0.5060 - val_accuracy: 0.7971 - val_loss: 0.5149\n",
      "Epoch 4/20\n",
      "\u001b[1m90/90\u001b[0m \u001b[32m━━━━━━━━━━━━━━━━━━━━\u001b[0m\u001b[37m\u001b[0m \u001b[1m94s\u001b[0m 1s/step - accuracy: 0.8142 - loss: 0.4803 - val_accuracy: 0.7679 - val_loss: 0.5612\n",
      "Epoch 5/20\n",
      "\u001b[1m90/90\u001b[0m \u001b[32m━━━━━━━━━━━━━━━━━━━━\u001b[0m\u001b[37m\u001b[0m \u001b[1m94s\u001b[0m 1s/step - accuracy: 0.8532 - loss: 0.4181 - val_accuracy: 0.7955 - val_loss: 0.5341\n",
      "Epoch 6/20\n",
      "\u001b[1m90/90\u001b[0m \u001b[32m━━━━━━━━━━━━━━━━━━━━\u001b[0m\u001b[37m\u001b[0m \u001b[1m95s\u001b[0m 1s/step - accuracy: 0.8386 - loss: 0.4395 - val_accuracy: 0.8718 - val_loss: 0.3328\n",
      "Epoch 7/20\n",
      "\u001b[1m90/90\u001b[0m \u001b[32m━━━━━━━━━━━━━━━━━━━━\u001b[0m\u001b[37m\u001b[0m \u001b[1m94s\u001b[0m 1s/step - accuracy: 0.8391 - loss: 0.4411 - val_accuracy: 0.8669 - val_loss: 0.3320\n",
      "Epoch 8/20\n",
      "\u001b[1m90/90\u001b[0m \u001b[32m━━━━━━━━━━━━━━━━━━━━\u001b[0m\u001b[37m\u001b[0m \u001b[1m93s\u001b[0m 1s/step - accuracy: 0.8680 - loss: 0.3600 - val_accuracy: 0.8149 - val_loss: 0.4849\n",
      "Epoch 9/20\n",
      "\u001b[1m90/90\u001b[0m \u001b[32m━━━━━━━━━━━━━━━━━━━━\u001b[0m\u001b[37m\u001b[0m \u001b[1m94s\u001b[0m 1s/step - accuracy: 0.8572 - loss: 0.3679 - val_accuracy: 0.8198 - val_loss: 0.4023\n",
      "Epoch 10/20\n",
      "\u001b[1m90/90\u001b[0m \u001b[32m━━━━━━━━━━━━━━━━━━━━\u001b[0m\u001b[37m\u001b[0m \u001b[1m94s\u001b[0m 1s/step - accuracy: 0.8650 - loss: 0.3886 - val_accuracy: 0.8588 - val_loss: 0.3736\n",
      "Epoch 11/20\n",
      "\u001b[1m90/90\u001b[0m \u001b[32m━━━━━━━━━━━━━━━━━━━━\u001b[0m\u001b[37m\u001b[0m \u001b[1m95s\u001b[0m 1s/step - accuracy: 0.8605 - loss: 0.3679 - val_accuracy: 0.8003 - val_loss: 0.4867\n",
      "Epoch 12/20\n",
      "\u001b[1m90/90\u001b[0m \u001b[32m━━━━━━━━━━━━━━━━━━━━\u001b[0m\u001b[37m\u001b[0m \u001b[1m94s\u001b[0m 1s/step - accuracy: 0.8628 - loss: 0.3643 - val_accuracy: 0.8425 - val_loss: 0.5017\n"
     ]
    },
    {
     "name": "stderr",
     "output_type": "stream",
     "text": [
      "WARNING:absl:You are saving your model as an HDF5 file via `model.save()` or `keras.saving.save_model(model)`. This file format is considered legacy. We recommend using instead the native Keras format, e.g. `model.save('my_model.keras')` or `keras.saving.save_model(model, 'my_model.keras')`. \n"
     ]
    },
    {
     "name": "stdout",
     "output_type": "stream",
     "text": [
      "\u001b[1m618/618\u001b[0m \u001b[32m━━━━━━━━━━━━━━━━━━━━\u001b[0m\u001b[37m\u001b[0m \u001b[1m13s\u001b[0m 21ms/step\n",
      "\n",
      "Melatih model_3\n"
     ]
    },
    {
     "name": "stderr",
     "output_type": "stream",
     "text": [
      "c:\\Python312\\Lib\\site-packages\\keras\\src\\layers\\convolutional\\base_conv.py:107: UserWarning: Do not pass an `input_shape`/`input_dim` argument to a layer. When using Sequential models, prefer using an `Input(shape)` object as the first layer in the model instead.\n",
      "  super().__init__(activity_regularizer=activity_regularizer, **kwargs)\n"
     ]
    },
    {
     "name": "stdout",
     "output_type": "stream",
     "text": [
      "Epoch 1/20\n",
      "\u001b[1m90/90\u001b[0m \u001b[32m━━━━━━━━━━━━━━━━━━━━\u001b[0m\u001b[37m\u001b[0m \u001b[1m354s\u001b[0m 4s/step - accuracy: 0.4563 - loss: 1.7770 - val_accuracy: 0.5568 - val_loss: 1.3420\n",
      "Epoch 2/20\n",
      "\u001b[1m90/90\u001b[0m \u001b[32m━━━━━━━━━━━━━━━━━━━━\u001b[0m\u001b[37m\u001b[0m \u001b[1m403s\u001b[0m 4s/step - accuracy: 0.7047 - loss: 0.7266 - val_accuracy: 0.8198 - val_loss: 0.5053\n",
      "Epoch 3/20\n",
      "\u001b[1m90/90\u001b[0m \u001b[32m━━━━━━━━━━━━━━━━━━━━\u001b[0m\u001b[37m\u001b[0m \u001b[1m332s\u001b[0m 4s/step - accuracy: 0.7838 - loss: 0.5724 - val_accuracy: 0.7597 - val_loss: 0.6574\n",
      "Epoch 4/20\n",
      "\u001b[1m90/90\u001b[0m \u001b[32m━━━━━━━━━━━━━━━━━━━━\u001b[0m\u001b[37m\u001b[0m \u001b[1m337s\u001b[0m 4s/step - accuracy: 0.8078 - loss: 0.5105 - val_accuracy: 0.8198 - val_loss: 0.4070\n",
      "Epoch 5/20\n",
      "\u001b[1m90/90\u001b[0m \u001b[32m━━━━━━━━━━━━━━━━━━━━\u001b[0m\u001b[37m\u001b[0m \u001b[1m335s\u001b[0m 4s/step - accuracy: 0.8040 - loss: 0.5094 - val_accuracy: 0.8231 - val_loss: 0.4354\n",
      "Epoch 6/20\n",
      "\u001b[1m90/90\u001b[0m \u001b[32m━━━━━━━━━━━━━━━━━━━━\u001b[0m\u001b[37m\u001b[0m \u001b[1m384s\u001b[0m 4s/step - accuracy: 0.8346 - loss: 0.4394 - val_accuracy: 0.8669 - val_loss: 0.3561\n",
      "Epoch 7/20\n",
      "\u001b[1m90/90\u001b[0m \u001b[32m━━━━━━━━━━━━━━━━━━━━\u001b[0m\u001b[37m\u001b[0m \u001b[1m379s\u001b[0m 4s/step - accuracy: 0.8011 - loss: 0.4770 - val_accuracy: 0.7289 - val_loss: 0.6698\n",
      "Epoch 8/20\n",
      "\u001b[1m90/90\u001b[0m \u001b[32m━━━━━━━━━━━━━━━━━━━━\u001b[0m\u001b[37m\u001b[0m \u001b[1m380s\u001b[0m 4s/step - accuracy: 0.8400 - loss: 0.4282 - val_accuracy: 0.8474 - val_loss: 0.3947\n",
      "Epoch 9/20\n",
      "\u001b[1m90/90\u001b[0m \u001b[32m━━━━━━━━━━━━━━━━━━━━\u001b[0m\u001b[37m\u001b[0m \u001b[1m384s\u001b[0m 4s/step - accuracy: 0.8510 - loss: 0.3765 - val_accuracy: 0.8799 - val_loss: 0.3518\n",
      "Epoch 10/20\n",
      "\u001b[1m90/90\u001b[0m \u001b[32m━━━━━━━━━━━━━━━━━━━━\u001b[0m\u001b[37m\u001b[0m \u001b[1m384s\u001b[0m 4s/step - accuracy: 0.8471 - loss: 0.3913 - val_accuracy: 0.8685 - val_loss: 0.3355\n",
      "Epoch 11/20\n",
      "\u001b[1m90/90\u001b[0m \u001b[32m━━━━━━━━━━━━━━━━━━━━\u001b[0m\u001b[37m\u001b[0m \u001b[1m381s\u001b[0m 4s/step - accuracy: 0.8567 - loss: 0.3918 - val_accuracy: 0.7338 - val_loss: 0.7568\n",
      "Epoch 12/20\n",
      "\u001b[1m90/90\u001b[0m \u001b[32m━━━━━━━━━━━━━━━━━━━━\u001b[0m\u001b[37m\u001b[0m \u001b[1m10712s\u001b[0m 120s/step - accuracy: 0.8713 - loss: 0.3584 - val_accuracy: 0.8506 - val_loss: 0.3927\n",
      "Epoch 13/20\n",
      "\u001b[1m90/90\u001b[0m \u001b[32m━━━━━━━━━━━━━━━━━━━━\u001b[0m\u001b[37m\u001b[0m \u001b[1m334s\u001b[0m 4s/step - accuracy: 0.8416 - loss: 0.4142 - val_accuracy: 0.7987 - val_loss: 0.5384\n",
      "Epoch 14/20\n",
      "\u001b[1m90/90\u001b[0m \u001b[32m━━━━━━━━━━━━━━━━━━━━\u001b[0m\u001b[37m\u001b[0m \u001b[1m323s\u001b[0m 4s/step - accuracy: 0.8496 - loss: 0.4028 - val_accuracy: 0.8068 - val_loss: 0.4858\n",
      "Epoch 15/20\n",
      "\u001b[1m90/90\u001b[0m \u001b[32m━━━━━━━━━━━━━━━━━━━━\u001b[0m\u001b[37m\u001b[0m \u001b[1m322s\u001b[0m 4s/step - accuracy: 0.8653 - loss: 0.3530 - val_accuracy: 0.7662 - val_loss: 0.5763\n"
     ]
    },
    {
     "name": "stderr",
     "output_type": "stream",
     "text": [
      "WARNING:absl:You are saving your model as an HDF5 file via `model.save()` or `keras.saving.save_model(model)`. This file format is considered legacy. We recommend using instead the native Keras format, e.g. `model.save('my_model.keras')` or `keras.saving.save_model(model, 'my_model.keras')`. \n"
     ]
    },
    {
     "name": "stdout",
     "output_type": "stream",
     "text": [
      "\u001b[1m618/618\u001b[0m \u001b[32m━━━━━━━━━━━━━━━━━━━━\u001b[0m\u001b[37m\u001b[0m \u001b[1m29s\u001b[0m 46ms/step\n"
     ]
    }
   ],
   "source": [
    "histories = []\n",
    "results = []\n",
    "\n",
    "# Melatih model untuk setiap konfigurasi\n",
    "for config in configs:\n",
    "    print(f\"\\nMelatih {config['name']}\")\n",
    "    model = build_model(filters=config['filters'], dropout_rate=config['dropout'])\n",
    "    checkpoint = ModelCheckpoint(f\"{config['name']}.keras\", save_best_only=True, monitor='val_loss', mode='min')\n",
    "    early_stop = EarlyStopping(monitor='val_loss', patience=5, restore_best_weights=True)\n",
    "\n",
    "    history = model.fit(train_generator, epochs=20, validation_data=val_generator,\n",
    "                        callbacks=[checkpoint, early_stop], verbose=1)\n",
    "\n",
    "    model.save(f\"{config['name']}.h5\")\n",
    "    test_loss, test_acc = model.evaluate(test_generator, verbose=0)\n",
    "    y_pred = model.predict(test_generator)\n",
    "    y_pred_classes = np.argmax(y_pred, axis=1)\n",
    "    y_true = test_generator.classes\n",
    "\n",
    "    report = classification_report(y_true, y_pred_classes, output_dict=True, target_names=test_generator.class_indices.keys())\n",
    "    results.append({\n",
    "        'name': config['name'],\n",
    "        'accuracy': test_acc,\n",
    "        'precision': report['weighted avg']['precision'],\n",
    "        'recall': report['weighted avg']['recall'],\n",
    "        'f1_score': report['weighted avg']['f1-score']\n",
    "    })\n",
    "    histories.append(history)"
   ]
  },
  {
   "cell_type": "markdown",
   "id": "3ccc8c2e",
   "metadata": {},
   "source": [
    "📊 1. Model_1\n",
    " - Akurasi terbaik (val_accuracy): 0.8929\n",
    " - Val_loss terbaik: 0.2643\n",
    " - Epoch terbaik (val_accuracy tertinggi): Epoch 19/20\n",
    "Catatan: Stabil naik, val_accuracy konsisten membaik, val_loss mengecil secara signifikan.\n",
    "\n",
    "📊 2. Model_2\n",
    " - Akurasi terbaik (val_accuracy): 0.8718\n",
    " - Val_loss terbaik: 0.3320\n",
    " - Epoch terbaik (val_accuracy tertinggi): Epoch 6 & 7/20\n",
    "Catatan: Performa baik namun sedikit di bawah model_1.\n",
    "\n",
    "📊 3. Model_3\n",
    " - Akurasi terbaik (val_accuracy): 0.8799 (Epoch 9/20)\n",
    " - Val_loss terbaik: 0.3355 (Epoch 10/20)\n",
    "Catatan: Val_accuracy cukup tinggi, tetapi val_loss tidak sebaik model_1. Ada kenaikan dan penurunan (fluktuatif).\n",
    "\n",
    "✅ Kesimpulan\n",
    "Model_1 adalah yang terbaik dalam hal:\n",
    "- Akurasi validasi tertinggi (0.8929)\n",
    "- Loss validasi terendah (0.2643)\n",
    "- Lebih stabil dibanding dua model lainnya"
   ]
  },
  {
   "cell_type": "markdown",
   "id": "71b2ab35",
   "metadata": {},
   "source": [
    "## 🧾7. Perbandingan Model\n",
    "Pada tahap ini, dilakukan perbandingan performa dari ketiga model (model_1, model_2, dan model_3) berdasarkan metrik evaluasi seperti akurasi, presisi, recall, dan f1-score. Tujuannya adalah untuk mengetahui model mana yang paling optimal dalam melakukan klasifikasi."
   ]
  },
  {
   "cell_type": "code",
   "execution_count": 9,
   "id": "089b4444",
   "metadata": {},
   "outputs": [
    {
     "name": "stdout",
     "output_type": "stream",
     "text": [
      "\n",
      "=== Perbandingan Model ===\n",
      "      name  accuracy  precision    recall  f1_score\n",
      "0  model_1  0.920712   0.922852  0.920712  0.920516\n",
      "1  model_2  0.859223   0.867163  0.859223  0.857619\n",
      "2  model_3  0.857605   0.874516  0.857605  0.855472\n",
      "\n",
      "Model terbaik: model_1\n"
     ]
    },
    {
     "name": "stderr",
     "output_type": "stream",
     "text": [
      "WARNING:absl:Compiled the loaded model, but the compiled metrics have yet to be built. `model.compile_metrics` will be empty until you train or evaluate the model.\n"
     ]
    },
    {
     "name": "stdout",
     "output_type": "stream",
     "text": [
      "\u001b[1m618/618\u001b[0m \u001b[32m━━━━━━━━━━━━━━━━━━━━\u001b[0m\u001b[37m\u001b[0m \u001b[1m7s\u001b[0m 11ms/step\n"
     ]
    },
    {
     "data": {
      "image/png": "[encoded data removed]",
      "text/plain": [
       "<Figure size 640x480 with 2 Axes>"
      ]
     },
     "metadata": {},
     "output_type": "display_data"
    }
   ],
   "source": [
    "df_results = pd.DataFrame(results)\n",
    "print(\"\\n=== Perbandingan Model ===\")\n",
    "print(df_results)\n",
    "\n",
    "# Visualisasi Confusion Matrix dari model terbaik\n",
    "best_model_idx = df_results['f1_score'].idxmax()\n",
    "best_model_name = df_results.loc[best_model_idx, 'name']\n",
    "print(f\"\\nModel terbaik: {best_model_name}\")\n",
    "\n",
    "from tensorflow.keras.models import load_model\n",
    "best_model = load_model(f\"{best_model_name}.h5\")\n",
    "y_pred_best = best_model.predict(test_generator)\n",
    "y_pred_best_classes = np.argmax(y_pred_best, axis=1)\n",
    "\n",
    "conf_matrix = confusion_matrix(test_generator.classes, y_pred_best_classes)\n",
    "sns.heatmap(conf_matrix, annot=True, fmt='d', cmap='Blues',\n",
    "            xticklabels=test_generator.class_indices.keys(),\n",
    "            yticklabels=test_generator.class_indices.keys())\n",
    "plt.title(f'Confusion Matrix - {best_model_name}')\n",
    "plt.xlabel('Predicted')\n",
    "plt.ylabel('True')\n",
    "plt.show()"
   ]
  },
  {
   "cell_type": "markdown",
   "id": "9d216ec6",
   "metadata": {},
   "source": [
    "\n",
    "\n",
    "## 🔍 Visualisasi Confusion Matrix - `model_1`\n",
    "\n",
    "\n",
    "Confusion matrix di atas menggambarkan performa model\\_1 dalam mengklasifikasikan tiga kelas: **butterfly**, **cats**, dan **panda**. Berikut interpretasi dari masing-masing nilai:\n",
    "\n",
    "| **True Label** | **Predicted as Butterfly** | **Predicted as Cats** | **Predicted as Panda** |\n",
    "| -------------- | -------------------------- | --------------------- | ---------------------- |\n",
    "| **Butterfly**  | 212 (✅ benar)              | 3                     | 3                      |\n",
    "| **Cats**       | 21                         | 192 (✅ benar)         | 6                      |\n",
    "| **Panda**      | 7                          | 9                     | 165 (✅ benar)          |\n",
    "\n",
    "### 📌 Penjelasan Detail\n",
    "\n",
    "* **Butterfly**\n",
    "\n",
    "  * Sebanyak **212 gambar butterfly** diklasifikasikan dengan benar.\n",
    "  * **3 gambar butterfly** salah diklasifikasikan sebagai **cats**.\n",
    "  * **3 gambar butterfly** salah diklasifikasikan sebagai **panda**.\n",
    "\n",
    "* **Cats**\n",
    "\n",
    "  * **192 gambar kucing** diklasifikasikan dengan benar.\n",
    "  * Namun, **21 gambar kucing** salah diklasifikasikan sebagai **butterfly** (ini kesalahan terbanyak).\n",
    "  * **6 gambar kucing** salah diklasifikasikan sebagai **panda**.\n",
    "\n",
    "* **Panda**\n",
    "\n",
    "  * **165 gambar panda** diklasifikasikan dengan benar.\n",
    "  * **7 gambar panda** salah diklasifikasikan sebagai **butterfly**.\n",
    "  * **9 gambar panda** salah diklasifikasikan sebagai **cats**.\n",
    "\n",
    "### ✅ Kesimpulan\n",
    "\n",
    "* Model\\_1 menunjukkan performa yang **sangat baik**, terutama pada kelas **butterfly** dan **panda**, dengan jumlah klasifikasi benar yang tinggi.\n",
    "* **Kesalahan terbesar** terjadi ketika model mengira gambar **kucing (cats)** sebagai **butterfly** (21 kasus), yang bisa menjadi indikasi bahwa fitur visual kedua kelas tersebut agak mirip menurut model.\n"
   ]
  },
  {
   "cell_type": "markdown",
   "id": "a6e5f9f3",
   "metadata": {},
   "source": [
    "## 📊 Hasil Perbandingan Model\n",
    "\n",
    "### 🥇 Model Terbaik: model_1\n",
    "Berdasarkan hasil evaluasi terhadap ketiga model, model_1 dipilih sebagai model terbaik karena memiliki nilai f1-score tertinggi yaitu 0.9205. Selain itu, model_1 juga unggul dalam metrik lain seperti:\n",
    "- Accuracy: 92.07%\n",
    "- Precision: 92.28%\n",
    "- Recall: 92.07%\n",
    "\n",
    "Nilai-nilai tersebut menunjukkan bahwa model_1 memiliki performa klasifikasi yang paling seimbang dan andal dibanding model lainnya."
   ]
  }
 ],
 "metadata": {
  "kernelspec": {
   "display_name": "Python 3",
   "language": "python",
   "name": "python3"
  },
  "language_info": {
   "codemirror_mode": {
    "name": "ipython",
    "version": 3
   },
   "file_extension": ".py",
   "mimetype": "text/x-python",
   "name": "python",
   "nbconvert_exporter": "python",
   "pygments_lexer": "ipython3",
   "version": "3.12.6"
  }
 },
 "nbformat": 4,
 "nbformat_minor": 5
}
